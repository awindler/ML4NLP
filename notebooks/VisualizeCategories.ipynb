{
 "cells": [
  {
   "cell_type": "code",
   "execution_count": 6,
   "metadata": {},
   "outputs": [],
   "source": [
    "import sys\n",
    "sys.path.append('..')\n",
    "\n",
    "from src.create_dataset import load_categories\n",
    "from src import PATH_RAW_DATA"
   ]
  },
  {
   "cell_type": "markdown",
   "metadata": {},
   "source": [
    "Plotting the distribution of categories:"
   ]
  },
  {
   "cell_type": "code",
   "execution_count": null,
   "metadata": {},
   "outputs": [],
   "source": [
    "from matplotlib import pyplot\n",
    "import seaborn as sbs\n",
    "import numpy as np\n",
    "\n",
    "categories = load_categories(PATH_RAW_DATA / \"articles.pickle\", 5)\n",
    "occurences = [(key, len(value)) for key, value in categories.items()]\n",
    "occurences.sort(key=lambda x: x[1], reverse=True)\n",
    "\n",
    "num_articles = np.array([category[1] for category in occurences])\n",
    "fig, ax = pyplot.subplots(figsize=(11.7, 8.27))\n",
    "dist = sbs.distplot(num_articles, hist=False, norm_hist=False, ax=ax)\n",
    "dist.set_xlabel('Number of articles per category (log)')\n",
    "dist.set_ylabel('Relative number of categories')\n",
    "dist.set_xscale(\"log\")\n",
    "dist.set_title(\"Distibution of articles\")\n",
    "dist.set_xlim(0)"
   ]
  },
  {
   "cell_type": "markdown",
   "metadata": {},
   "source": [
    "Plotting the different categories:"
   ]
  },
  {
   "cell_type": "code",
   "execution_count": null,
   "metadata": {},
   "outputs": [],
   "source": [
    "from wordcloud import WordCloud\n",
    "\n",
    "top_occurences = { name: occurences for name, occurences in occurences }\n",
    "sum_occurences = sum(top_occurences.values())\n",
    "top_occurences = {name: occurences / sum_occurences for name, occurences in top_occurences.items()}\n",
    "\n",
    "cloud = WordCloud(background_color=\"white\").fit_words(top_occurences)\n",
    "\n",
    "fig, ax = pyplot.subplots(figsize=(11.7, 8.27))\n",
    "ax.imshow(cloud, interpolation=\"bilinear\")\n",
    "ax.axis(\"off\")"
   ]
  }
 ],
 "metadata": {
  "kernelspec": {
   "display_name": "Python 3",
   "language": "python",
   "name": "python3"
  },
  "language_info": {
   "codemirror_mode": {
    "name": "ipython",
    "version": 3
   },
   "file_extension": ".py",
   "mimetype": "text/x-python",
   "name": "python",
   "nbconvert_exporter": "python",
   "pygments_lexer": "ipython3",
   "version": "3.6.2"
  }
 },
 "nbformat": 4,
 "nbformat_minor": 2
}
